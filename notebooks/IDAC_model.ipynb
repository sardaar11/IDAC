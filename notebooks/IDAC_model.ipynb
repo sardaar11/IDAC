{
  "cells": [
    {
      "cell_type": "markdown",
      "metadata": {
        "id": "rOlE7N3HSs71"
      },
      "source": [
        "# Infinite Dilutioin Activity Coefficient Estimation\n",
        "\n",
        "**Data Processing and Model Development**"
      ]
    },
    {
      "cell_type": "markdown",
      "metadata": {
        "id": "Q0-JTCz1ZzDK"
      },
      "source": [
        "## Step 1: Data processing\n",
        "\n",
        "> 1. Split the data to train, cross-validation, and test.\n",
        "> 2. Scale the data.\n",
        "> 3. Convert to `torch.tensor`.\n",
        "> 4. Make a custom dataset `torch.utils.data.Dataset`.\n",
        "> 5. Make datalloaders `torch.utils.data.DataLoader`."
      ]
    },
    {
      "cell_type": "code",
      "execution_count": 2,
      "metadata": {
        "colab": {
          "base_uri": "https://localhost:8080/",
          "height": 163
        },
        "id": "kw4_dTb-ODQK",
        "outputId": "a420ab5f-70d9-4c80-96ce-01d3f65d0612"
      },
      "outputs": [
        {
          "data": {
            "text/html": [
              "<div>\n",
              "<style scoped>\n",
              "    .dataframe tbody tr th:only-of-type {\n",
              "        vertical-align: middle;\n",
              "    }\n",
              "\n",
              "    .dataframe tbody tr th {\n",
              "        vertical-align: top;\n",
              "    }\n",
              "\n",
              "    .dataframe thead th {\n",
              "        text-align: right;\n",
              "    }\n",
              "</style>\n",
              "<table border=\"1\" class=\"dataframe\">\n",
              "  <thead>\n",
              "    <tr style=\"text-align: right;\">\n",
              "      <th></th>\n",
              "      <th>Tc_solute</th>\n",
              "      <th>Pc_solute</th>\n",
              "      <th>Vc_solute</th>\n",
              "      <th>omega_solute</th>\n",
              "      <th>dipole_solute</th>\n",
              "      <th>MW_solute</th>\n",
              "      <th>Tc_solvent</th>\n",
              "      <th>Pc_solvent</th>\n",
              "      <th>Vc_solvent</th>\n",
              "      <th>omega_solvent</th>\n",
              "      <th>dipole_solvent</th>\n",
              "      <th>MW_solvent</th>\n",
              "      <th>T_K</th>\n",
              "      <th>ln_IDAC_exp</th>\n",
              "    </tr>\n",
              "  </thead>\n",
              "  <tbody>\n",
              "    <tr>\n",
              "      <th>0</th>\n",
              "      <td>550.0</td>\n",
              "      <td>4300000</td>\n",
              "      <td>0.000268</td>\n",
              "      <td>0.216</td>\n",
              "      <td>1.78</td>\n",
              "      <td>133.40422</td>\n",
              "      <td>561.6</td>\n",
              "      <td>5226120.0</td>\n",
              "      <td>0.000231</td>\n",
              "      <td>0.2680</td>\n",
              "      <td>2.940000</td>\n",
              "      <td>98.95916</td>\n",
              "      <td>328.2</td>\n",
              "      <td>0.292670</td>\n",
              "    </tr>\n",
              "    <tr>\n",
              "      <th>1</th>\n",
              "      <td>550.0</td>\n",
              "      <td>4300000</td>\n",
              "      <td>0.000268</td>\n",
              "      <td>0.216</td>\n",
              "      <td>1.78</td>\n",
              "      <td>133.40422</td>\n",
              "      <td>652.5</td>\n",
              "      <td>2777000.0</td>\n",
              "      <td>0.000497</td>\n",
              "      <td>0.5963</td>\n",
              "      <td>1.649998</td>\n",
              "      <td>130.22792</td>\n",
              "      <td>298.2</td>\n",
              "      <td>0.683097</td>\n",
              "    </tr>\n",
              "    <tr>\n",
              "      <th>2</th>\n",
              "      <td>550.0</td>\n",
              "      <td>4300000</td>\n",
              "      <td>0.000268</td>\n",
              "      <td>0.216</td>\n",
              "      <td>1.78</td>\n",
              "      <td>133.40422</td>\n",
              "      <td>652.5</td>\n",
              "      <td>2777000.0</td>\n",
              "      <td>0.000497</td>\n",
              "      <td>0.5963</td>\n",
              "      <td>1.649998</td>\n",
              "      <td>130.22792</td>\n",
              "      <td>298.2</td>\n",
              "      <td>0.636577</td>\n",
              "    </tr>\n",
              "  </tbody>\n",
              "</table>\n",
              "</div>"
            ],
            "text/plain": [
              "   Tc_solute  Pc_solute  Vc_solute  omega_solute  dipole_solute  MW_solute  \\\n",
              "0      550.0    4300000   0.000268         0.216           1.78  133.40422   \n",
              "1      550.0    4300000   0.000268         0.216           1.78  133.40422   \n",
              "2      550.0    4300000   0.000268         0.216           1.78  133.40422   \n",
              "\n",
              "   Tc_solvent  Pc_solvent  Vc_solvent  omega_solvent  dipole_solvent  \\\n",
              "0       561.6   5226120.0    0.000231         0.2680        2.940000   \n",
              "1       652.5   2777000.0    0.000497         0.5963        1.649998   \n",
              "2       652.5   2777000.0    0.000497         0.5963        1.649998   \n",
              "\n",
              "   MW_solvent    T_K  ln_IDAC_exp  \n",
              "0    98.95916  328.2     0.292670  \n",
              "1   130.22792  298.2     0.683097  \n",
              "2   130.22792  298.2     0.636577  "
            ]
          },
          "execution_count": 2,
          "metadata": {},
          "output_type": "execute_result"
        }
      ],
      "source": [
        "import pandas as pd\n",
        "\n",
        "df = pd.read_csv('../data/IDAC_final.csv')\n",
        "df.head(3)"
      ]
    },
    {
      "cell_type": "markdown",
      "metadata": {
        "id": "zs2gnEr9TELl"
      },
      "source": [
        "### 1-1. Split the data to train, cross validation and test sets\n",
        "\n",
        "> **Test size** : 15 % \\\n",
        "> **Train and cross validation size** : 75 % \\\n",
        "> **Cross validation size** : 15 % of train-validation"
      ]
    },
    {
      "cell_type": "code",
      "execution_count": 3,
      "metadata": {
        "id": "bVv1vOwOPA3X"
      },
      "outputs": [],
      "source": [
        "X = df.iloc[:, :-1].to_numpy()\n",
        "y = df.loc[:, 'ln_IDAC_exp'].to_numpy()\n",
        "\n",
        "from sklearn.model_selection import train_test_split\n",
        "\n",
        "X_train, X_test, y_train, y_test = train_test_split(X, y, test_size=0.15, random_state=42)\n",
        "X_train, X_cv, y_train, y_cv = train_test_split(X_train, y_train, test_size=0.15, random_state=42)"
      ]
    },
    {
      "cell_type": "markdown",
      "metadata": {
        "id": "CBume0e_U0hx"
      },
      "source": [
        "### 1-2. Scale the data with `StandardScaler`"
      ]
    },
    {
      "cell_type": "code",
      "execution_count": 4,
      "metadata": {
        "id": "XT-YxjsvU-Pi"
      },
      "outputs": [],
      "source": [
        "from sklearn.preprocessing import StandardScaler, MinMaxScaler\n",
        "\n",
        "scaler = StandardScaler()\n",
        "#scaler = MinMaxScaler((-1, 1))\n",
        "\n",
        "X_train = scaler.fit_transform(X_train)\n",
        "X_cv = scaler.transform(X_cv)\n",
        "X_test = scaler.transform(X_test)"
      ]
    },
    {
      "cell_type": "markdown",
      "metadata": {
        "id": "2-QyOqfQSqxh"
      },
      "source": [
        "### 1-3. Convert the data to `torch.tensor`"
      ]
    },
    {
      "cell_type": "code",
      "execution_count": 5,
      "metadata": {
        "collapsed": true,
        "id": "hX-0El11PPXF"
      },
      "outputs": [],
      "source": [
        "import torch\n",
        "\n",
        "X_train = torch.tensor(X_train, ).type(torch.float32)\n",
        "X_cv = torch.tensor(X_cv).type(torch.float32)\n",
        "X_test = torch.tensor(X_test).type(torch.float32)\n",
        "\n",
        "y_train = torch.tensor(y_train).type(torch.float32).unsqueeze(dim=1)\n",
        "y_cv = torch.tensor(y_cv).type(torch.float32).unsqueeze(dim=1)\n",
        "y_test = torch.tensor(y_test).type(torch.float32).unsqueeze(dim=1)"
      ]
    },
    {
      "cell_type": "code",
      "execution_count": 7,
      "metadata": {
        "colab": {
          "base_uri": "https://localhost:8080/"
        },
        "id": "SPKZnNkzQ1pK",
        "outputId": "cfc45085-39d4-4f84-c1ad-ac93e86cddce"
      },
      "outputs": [
        {
          "name": "stdout",
          "output_type": "stream",
          "text": [
            "Training set: torch.Size([4652, 13])\n",
            "Cross validation set: torch.Size([822, 13])\n",
            "Test set: torch.Size([967, 13])\n"
          ]
        }
      ],
      "source": [
        "print(f'Training set: {X_train.shape}\\nCross validation set: {X_cv.shape}\\nTest set: {X_test.shape}')"
      ]
    },
    {
      "cell_type": "markdown",
      "metadata": {
        "id": "HvFQdE_RWA-k"
      },
      "source": [
        "### 1-4. Make a custom torch dataset"
      ]
    },
    {
      "cell_type": "code",
      "execution_count": 8,
      "metadata": {
        "id": "8_2-KQ0PUtWm"
      },
      "outputs": [],
      "source": [
        "from torch.utils.data import Dataset\n",
        "\n",
        "class IDACDataset(Dataset):\n",
        "    def __init__(self, features, labels):\n",
        "        self.features = features\n",
        "        self.labels = labels\n",
        "\n",
        "    def __len__(self):\n",
        "        return len(self.features)\n",
        "\n",
        "    def __getitem__(self, idx):\n",
        "        return (self.features[idx], self.labels[idx])"
      ]
    },
    {
      "cell_type": "code",
      "execution_count": 9,
      "metadata": {
        "id": "j7j1QOxzXTjW"
      },
      "outputs": [],
      "source": [
        "train_dataset = IDACDataset(X_train, y_train)\n",
        "cv_dataset = IDACDataset(X_cv, y_cv)\n",
        "test_dataset = IDACDataset(X_test, y_test)"
      ]
    },
    {
      "cell_type": "markdown",
      "metadata": {
        "id": "v3tvs47PZCh5"
      },
      "source": [
        "### 1-5. Make the DataLoaders"
      ]
    },
    {
      "cell_type": "code",
      "execution_count": 11,
      "metadata": {
        "id": "1ilEKL-qYGgt"
      },
      "outputs": [],
      "source": [
        "from torch.utils.data import DataLoader\n",
        "\n",
        "train_loader = DataLoader(train_dataset, batch_size=32, shuffle=True)\n",
        "cv_loader = DataLoader(cv_dataset, batch_size=32, shuffle=False)\n",
        "test_loader = DataLoader(test_dataset, batch_size=32, shuffle=False)"
      ]
    },
    {
      "cell_type": "markdown",
      "metadata": {
        "id": "YRgmKu6uawFr"
      },
      "source": [
        "## Step 2: Model Architecture and Training\n",
        "\n",
        "> 1. Make an MLP model.\n",
        "> 2. Write trainer, tester, and evaluation procedures.\n",
        "> 3. Train the model.\n",
        "> 4. Validate it with test data.\n",
        "> 5. Visulize and summerize the results\n",
        "> 6. Save the model"
      ]
    },
    {
      "cell_type": "markdown",
      "metadata": {
        "id": "bobWmsnkcQKO"
      },
      "source": [
        "### 2-1. Model Architecture"
      ]
    },
    {
      "cell_type": "code",
      "execution_count": 12,
      "metadata": {
        "colab": {
          "base_uri": "https://localhost:8080/"
        },
        "id": "C10wtZgYbjNT",
        "outputId": "64307317-8e88-4ae2-967a-f611e9443950"
      },
      "outputs": [
        {
          "data": {
            "text/plain": [
              "IDACModelV0(\n",
              "  (activation): ReLU()\n",
              "  (layer_stack): Sequential(\n",
              "    (0): Linear(in_features=13, out_features=10, bias=True)\n",
              "    (1): ReLU()\n",
              "    (2): Linear(in_features=10, out_features=10, bias=True)\n",
              "    (3): ReLU()\n",
              "    (4): Linear(in_features=10, out_features=10, bias=True)\n",
              "    (5): ReLU()\n",
              "    (6): Linear(in_features=10, out_features=1, bias=True)\n",
              "  )\n",
              ")"
            ]
          },
          "execution_count": 12,
          "metadata": {},
          "output_type": "execute_result"
        }
      ],
      "source": [
        "import torch\n",
        "from torch import nn\n",
        "\n",
        "class IDACModelV0(nn.Module):\n",
        "    def __init__(self, input_shape, hidden_units, output_shape, activation='relu'):\n",
        "        super().__init__()\n",
        "\n",
        "        if activation == 'sigmoid':\n",
        "            self.activation = nn.Sigmoid()\n",
        "        elif activation == 'relu':\n",
        "            self.activation= nn.ReLU()\n",
        "        elif activation == 'tanh':\n",
        "            self.activation = nn.Tanh()\n",
        "        else:\n",
        "            raise(ValueError(f'{activation} is not valid for this model'))\n",
        "\n",
        "        self.layer_stack = nn.Sequential(\n",
        "            nn.Linear(in_features=input_shape, out_features=hidden_units),\n",
        "            self.activation,\n",
        "            nn.Linear(in_features=hidden_units, out_features=hidden_units),\n",
        "            self.activation,\n",
        "            nn.Linear(in_features=hidden_units, out_features=hidden_units),\n",
        "            self.activation,\n",
        "            nn.Linear(in_features=hidden_units, out_features=output_shape)\n",
        "        )\n",
        "\n",
        "    def forward(self, x):\n",
        "        return self.layer_stack(x)\n",
        "\n",
        "# Model\n",
        "INPUT_SHAPE = 13\n",
        "HIDDEN_UNITS = 10\n",
        "OUTPUT_SHAPE = 1\n",
        "ACTIVATION = 'relu'\n",
        "\n",
        "model = IDACModelV0(INPUT_SHAPE, HIDDEN_UNITS, OUTPUT_SHAPE, ACTIVATION)\n",
        "model"
      ]
    },
    {
      "cell_type": "markdown",
      "metadata": {
        "id": "hXEAWukmftcT"
      },
      "source": [
        "### 2-2 Trainer, Tester, and Validation functions"
      ]
    },
    {
      "cell_type": "code",
      "execution_count": 13,
      "metadata": {
        "id": "nSqYqng4avtk"
      },
      "outputs": [
        {
          "name": "stderr",
          "output_type": "stream",
          "text": [
            "c:\\Users\\sardar\\anaconda3\\envs\\torch2\\Lib\\site-packages\\tqdm\\auto.py:21: TqdmWarning: IProgress not found. Please update jupyter and ipywidgets. See https://ipywidgets.readthedocs.io/en/stable/user_install.html\n",
            "  from .autonotebook import tqdm as notebook_tqdm\n"
          ]
        }
      ],
      "source": [
        "from tqdm.auto import tqdm\n",
        "\n",
        "#########\n",
        "# Trainer\n",
        "#########\n",
        "def trainer(\n",
        "        model : torch.nn.Module,\n",
        "        data_loader: torch.utils.data.DataLoader,\n",
        "        loss_fn: torch.nn.Module,\n",
        "        optimizer: torch.optim.Optimizer,\n",
        "        device: torch.device = 'cpu'):\n",
        "\n",
        "    train_loss = 0\n",
        "    model.to(device)\n",
        "    model.train()\n",
        "    for X, y in data_loader:\n",
        "        X, y = X.to(device), y.to(device)\n",
        "        y_preds = model(X)\n",
        "        loss = loss_fn(y_preds, y)\n",
        "        train_loss += loss\n",
        "\n",
        "        optimizer.zero_grad()\n",
        "        loss.backward()\n",
        "        optimizer.step()\n",
        "\n",
        "    train_loss /= len(data_loader)\n",
        "\n",
        "    return train_loss\n",
        "\n",
        "#########\n",
        "# Tester: test the model on the cross validation data during the training process\n",
        "#########\n",
        "def tester(\n",
        "        model: torch.nn.Module,\n",
        "        data_loader: torch.utils.data.DataLoader,\n",
        "        loss_fn: torch.nn.Module,\n",
        "        device: torch.device = 'cpu'):\n",
        "\n",
        "    model.to(device)\n",
        "    model.eval()\n",
        "    with torch.inference_mode():\n",
        "        test_loss = 0\n",
        "        for X, y in data_loader:\n",
        "            X, y = X.to(device), y.to(device)\n",
        "            y_preds = model(X)\n",
        "            test_loss += loss_fn(y_preds, y)\n",
        "\n",
        "        test_loss /= len(data_loader)\n",
        "\n",
        "    return test_loss\n",
        "\n",
        "############\n",
        "# Evalution : evaluate the final model on the test data\n",
        "############\n",
        "def evaluator(\n",
        "        model: torch.nn.Module,\n",
        "        data_loader: torch.utils.data.DataLoader,\n",
        "        loss_fn: torch.nn.Module,\n",
        "        device: torch.device = 'cpu'):\n",
        "\n",
        "    model.eval()\n",
        "    with torch.inference_mode():\n",
        "        loss = 0\n",
        "        for X, y in tqdm(data_loader):\n",
        "            X, y = X.to(device), y.to(device)\n",
        "            y_preds = model(X)\n",
        "            loss += loss_fn(y_preds, y)\n",
        "\n",
        "        loss /= len(data_loader)\n",
        "    return {\n",
        "        'model_name': model.__class__.__name__,\n",
        "        'model_loss': loss.item(),\n",
        "    }"
      ]
    },
    {
      "cell_type": "markdown",
      "metadata": {
        "id": "mtm01NqqiSYf"
      },
      "source": [
        "### 2-3. Train the model"
      ]
    },
    {
      "cell_type": "code",
      "execution_count": 14,
      "metadata": {
        "colab": {
          "base_uri": "https://localhost:8080/",
          "height": 304,
          "referenced_widgets": [
            "eef74dd4b40f46bc89c8cd4403e3f525",
            "cdc27664662d4a6aaa6cd08ec03f4dbe",
            "81a1c370f4d54e38becda3eb6cb9735b",
            "6697059c7cfd41d6b5d0503793ab0eeb",
            "fc54a190b92c4bb2a3053ac76e72cfc6",
            "74abaf648ee743f8bf33e4270473e8dc",
            "ad449a1562534a658aafef7fa73eb047",
            "1ffb68c3f9e246fc977833e874d3ed59",
            "5a8a8c1b98b9486ba1ee3a1121194c71",
            "b66bdaacb28e46c691d9c0502aa549d5",
            "4e97334830f24462bc654485e06b5219"
          ]
        },
        "id": "lxyDj2Q4XSgp",
        "outputId": "ec412a85-3168-4a8d-c04f-437a8ea7fe41"
      },
      "outputs": [
        {
          "name": "stdout",
          "output_type": "stream",
          "text": [
            "this code is running on cuda\n",
            "--------------------------------------------------\n"
          ]
        },
        {
          "name": "stderr",
          "output_type": "stream",
          "text": [
            "  0%|          | 1/220 [00:01<04:56,  1.35s/it]"
          ]
        },
        {
          "name": "stdout",
          "output_type": "stream",
          "text": [
            "Epoch:    0| Train Loss:   1.2170| Cross Validation Loss:   0.9067\n"
          ]
        },
        {
          "name": "stderr",
          "output_type": "stream",
          "text": [
            " 10%|▉         | 21/220 [00:08<01:01,  3.26it/s]"
          ]
        },
        {
          "name": "stdout",
          "output_type": "stream",
          "text": [
            "Epoch:   20| Train Loss:   0.1234| Cross Validation Loss:   0.1477\n"
          ]
        },
        {
          "name": "stderr",
          "output_type": "stream",
          "text": [
            " 19%|█▊        | 41/220 [00:14<00:54,  3.27it/s]"
          ]
        },
        {
          "name": "stdout",
          "output_type": "stream",
          "text": [
            "Epoch:   40| Train Loss:   0.0723| Cross Validation Loss:   0.0896\n"
          ]
        },
        {
          "name": "stderr",
          "output_type": "stream",
          "text": [
            " 28%|██▊       | 61/220 [00:19<00:40,  3.97it/s]"
          ]
        },
        {
          "name": "stdout",
          "output_type": "stream",
          "text": [
            "Epoch:   60| Train Loss:   0.0516| Cross Validation Loss:   0.0833\n"
          ]
        },
        {
          "name": "stderr",
          "output_type": "stream",
          "text": [
            " 37%|███▋      | 81/220 [00:24<00:33,  4.10it/s]"
          ]
        },
        {
          "name": "stdout",
          "output_type": "stream",
          "text": [
            "Epoch:   80| Train Loss:   0.0379| Cross Validation Loss:   0.0638\n"
          ]
        },
        {
          "name": "stderr",
          "output_type": "stream",
          "text": [
            " 46%|████▌     | 101/220 [00:30<00:30,  3.90it/s]"
          ]
        },
        {
          "name": "stdout",
          "output_type": "stream",
          "text": [
            "Epoch:  100| Train Loss:   0.0308| Cross Validation Loss:   0.0559\n"
          ]
        },
        {
          "name": "stderr",
          "output_type": "stream",
          "text": [
            " 55%|█████▌    | 121/220 [00:35<00:23,  4.17it/s]"
          ]
        },
        {
          "name": "stdout",
          "output_type": "stream",
          "text": [
            "Epoch:  120| Train Loss:   0.0273| Cross Validation Loss:   0.0582\n"
          ]
        },
        {
          "name": "stderr",
          "output_type": "stream",
          "text": [
            " 64%|██████▍   | 141/220 [00:40<00:22,  3.53it/s]"
          ]
        },
        {
          "name": "stdout",
          "output_type": "stream",
          "text": [
            "Epoch:  140| Train Loss:   0.0226| Cross Validation Loss:   0.0559\n"
          ]
        },
        {
          "name": "stderr",
          "output_type": "stream",
          "text": [
            " 73%|███████▎  | 161/220 [00:45<00:14,  4.00it/s]"
          ]
        },
        {
          "name": "stdout",
          "output_type": "stream",
          "text": [
            "Epoch:  160| Train Loss:   0.0202| Cross Validation Loss:   0.0520\n"
          ]
        },
        {
          "name": "stderr",
          "output_type": "stream",
          "text": [
            " 82%|████████▏ | 181/220 [00:51<00:11,  3.37it/s]"
          ]
        },
        {
          "name": "stdout",
          "output_type": "stream",
          "text": [
            "Epoch:  180| Train Loss:   0.0192| Cross Validation Loss:   0.0486\n"
          ]
        },
        {
          "name": "stderr",
          "output_type": "stream",
          "text": [
            " 91%|█████████▏| 201/220 [00:57<00:05,  3.29it/s]"
          ]
        },
        {
          "name": "stdout",
          "output_type": "stream",
          "text": [
            "Epoch:  200| Train Loss:   0.0174| Cross Validation Loss:   0.0486\n"
          ]
        },
        {
          "name": "stderr",
          "output_type": "stream",
          "text": [
            "100%|██████████| 220/220 [01:03<00:00,  3.49it/s]"
          ]
        },
        {
          "name": "stdout",
          "output_type": "stream",
          "text": [
            "Epoch:  219| Train Loss:   0.0165| Cross Validation Loss:   0.0468\n"
          ]
        },
        {
          "name": "stderr",
          "output_type": "stream",
          "text": [
            "\n"
          ]
        }
      ],
      "source": [
        "from timeit import default_timer as timer\n",
        "from tqdm.auto import tqdm\n",
        "\n",
        "torch.manual_seed(42)\n",
        "torch.cuda.manual_seed(42)\n",
        "# make the code device agnostic\n",
        "device = 'cuda' if torch.cuda.is_available() else 'cpu'\n",
        "\n",
        "print(f'this code is running on {device}')\n",
        "print('-'*50)\n",
        "\n",
        "# Hyper parameters\n",
        "LEARNING_RATE = 0.01\n",
        "EPOCHS = 220\n",
        "\n",
        "INPUT_SHAPE = 13\n",
        "HIDDEN_UNITS = 40\n",
        "OUTPUT_SHAPE = 1\n",
        "ACTIVATION = 'sigmoid'\n",
        "\n",
        "# model_0\n",
        "model_0 = IDACModelV0(INPUT_SHAPE, HIDDEN_UNITS, OUTPUT_SHAPE, ACTIVATION)\n",
        "\n",
        "loss_fn = nn.MSELoss()\n",
        "optimizer = torch.optim.Adam(params=model_0.parameters(),\n",
        "                             lr=LEARNING_RATE)\n",
        "\n",
        "\n",
        "# Training Loop\n",
        "\n",
        "for epoch in tqdm(range(EPOCHS)):\n",
        "    train_loss = trainer(model_0,\n",
        "            data_loader=train_loader,\n",
        "            loss_fn=loss_fn,\n",
        "            optimizer=optimizer,\n",
        "            device=device)\n",
        "\n",
        "    cv_loss = tester(model_0,\n",
        "           data_loader=cv_loader,\n",
        "           loss_fn=loss_fn,\n",
        "           device=device)\n",
        "\n",
        "    if epoch % 20 == 0 or epoch == (EPOCHS-1):\n",
        "        print(f'Epoch: {epoch: 4}| Train Loss: {train_loss: 8.4f}| Cross Validation Loss: {cv_loss: 8.4f}')"
      ]
    },
    {
      "cell_type": "markdown",
      "metadata": {
        "id": "1BhM4l5-rynp"
      },
      "source": [
        "### 2-4. Evaluate the model"
      ]
    },
    {
      "cell_type": "code",
      "execution_count": 15,
      "metadata": {
        "colab": {
          "base_uri": "https://localhost:8080/",
          "height": 67,
          "referenced_widgets": [
            "f14c5ab0e6c84fbdb64ae7a8e18cba5a",
            "df0827b4f1f54032abc554dc64cdb0b6",
            "ec097f11810c4e71b8835a8119b82ad2",
            "9fc048dbcd1a440ba24a7f87c467d642",
            "4aa202094dee405a90584d5d994a6d46",
            "01f060d9ca664c30a5c944aaa0a3b995",
            "0d3a5f3222054f2eaec64ea29c8b6924",
            "4adff2c54d0b458fae7ddc2843268f5b",
            "94f3dac7da794382896351cae4041faa",
            "50eef1b98a3349519fa1afbcb52b131b",
            "82f01d318e52424899c453062d112ab1"
          ]
        },
        "id": "Uz9OhdcLrW9d",
        "outputId": "f61d4737-1f27-4a7b-9554-5808c5951dc9"
      },
      "outputs": [
        {
          "name": "stderr",
          "output_type": "stream",
          "text": [
            "100%|██████████| 31/31 [00:00<00:00, 1096.74it/s]\n"
          ]
        },
        {
          "data": {
            "text/plain": [
              "{'model_name': 'IDACModelV0', 'model_loss': 0.04602504521608353}"
            ]
          },
          "execution_count": 15,
          "metadata": {},
          "output_type": "execute_result"
        }
      ],
      "source": [
        "model_0.results = evaluator(\n",
        "    model_0,\n",
        "    data_loader=test_loader,\n",
        "    loss_fn=loss_fn,\n",
        "    device=device\n",
        ")\n",
        "\n",
        "model_0.results"
      ]
    },
    {
      "cell_type": "markdown",
      "metadata": {
        "id": "_Bg_2NY3r4p2"
      },
      "source": [
        "### 2-5. Visulize and summerize the results\n",
        "\n",
        "> **Metrics:**\n",
        ">> 1. **MSE:** Mean Squared Error\n",
        ">> 2. **MSRE:** Root Mean Squared Error\n",
        ">> 3. **MAE:** Mean Absolute Error\n",
        ">> 4. **$R^{2} score$**\n",
        ">> 5. **%AAD:** % Average Absolute Deviation\n",
        ">> 6. **%MaxAD:** % Maximum Absolute Deviation"
      ]
    },
    {
      "cell_type": "code",
      "execution_count": 16,
      "metadata": {
        "colab": {
          "base_uri": "https://localhost:8080/",
          "height": 564
        },
        "id": "b7enz-Aqrthu",
        "outputId": "a99ad976-6237-4534-aca5-ac85c42ee9ca"
      },
      "outputs": [
        {
          "data": {
            "image/png": "[encoded data removed]",
            "text/plain": [
              "<Figure size 1000x600 with 1 Axes>"
            ]
          },
          "metadata": {},
          "output_type": "display_data"
        }
      ],
      "source": [
        "import matplotlib.pyplot as plt\n",
        "import seaborn as sns\n",
        "import pandas as pd\n",
        "import numpy as np\n",
        "sns.set_theme(style='whitegrid')\n",
        "\n",
        "y_real_train = train_dataset.labels\n",
        "y_real_cv = cv_dataset.labels\n",
        "y_real_test = test_dataset.labels\n",
        "model.eval()\n",
        "with torch.inference_mode():\n",
        "    y_preds_train = model_0(train_dataset.features.to(device))\n",
        "    y_preds_cv = model_0(cv_dataset.features.to(device))\n",
        "    y_preds_test = model_0(test_dataset.features.to(device))\n",
        "\n",
        "fig, ax = plt.subplots(figsize=(10, 6))\n",
        "\n",
        "# Plot for training data\n",
        "sns.scatterplot(x=y_real_train.squeeze().numpy(), y=y_preds_train.to('cpu').squeeze().numpy(),\n",
        "                color='blue', marker='o', ax=ax, label='train', alpha=0.5, s=50)\n",
        "\n",
        "# Plot for cross-validation data\n",
        "sns.scatterplot(x=y_real_cv.squeeze().numpy(), y=y_preds_cv.to('cpu').squeeze().numpy(),\n",
        "                color='orange', marker='^', ax=ax, label='cross validation', alpha=1, s=30)\n",
        "\n",
        "# Plot for test data\n",
        "sns.scatterplot(x=y_real_test.squeeze().numpy(), y=y_preds_test.to('cpu').squeeze().numpy(),\n",
        "                color='green', marker='s', ax=ax, label='test', alpha=0.5, s=20)\n",
        "\n",
        "# y = x\n",
        "x_range = np.linspace(min(y_real_train.min(), y_real_cv.min(), y_real_test.min()),\n",
        "                      max(y_real_train.max(), y_real_cv.max(), y_real_test.max()), 100)\n",
        "ax.plot(x_range, x_range, 'k--', label='y = x')\n",
        "\n",
        "# x and y labels\n",
        "ax.set_xlabel(r'Ln($\\gamma_{exp}^{\\infty}$)')\n",
        "ax.set_ylabel(r'Ln($\\gamma_{pred}^{\\infty}$)')\n",
        "\n",
        "ax.legend()\n",
        "plt.show()"
      ]
    },
    {
      "cell_type": "code",
      "execution_count": 17,
      "metadata": {
        "colab": {
          "base_uri": "https://localhost:8080/",
          "height": 175
        },
        "id": "RWGcZLN7Im-S",
        "outputId": "170424c6-794c-412c-8c9a-c030d8e1223d"
      },
      "outputs": [
        {
          "data": {
            "text/html": [
              "<div>\n",
              "<style scoped>\n",
              "    .dataframe tbody tr th:only-of-type {\n",
              "        vertical-align: middle;\n",
              "    }\n",
              "\n",
              "    .dataframe tbody tr th {\n",
              "        vertical-align: top;\n",
              "    }\n",
              "\n",
              "    .dataframe thead th {\n",
              "        text-align: right;\n",
              "    }\n",
              "</style>\n",
              "<table border=\"1\" class=\"dataframe\">\n",
              "  <thead>\n",
              "    <tr style=\"text-align: right;\">\n",
              "      <th></th>\n",
              "      <th>Data Split</th>\n",
              "      <th>R² Score</th>\n",
              "      <th>MSE</th>\n",
              "      <th>RMSE</th>\n",
              "      <th>MAE</th>\n",
              "      <th>%AAD</th>\n",
              "      <th>%MaxAD</th>\n",
              "    </tr>\n",
              "  </thead>\n",
              "  <tbody>\n",
              "    <tr>\n",
              "      <th>0</th>\n",
              "      <td>Train</td>\n",
              "      <td>0.989994</td>\n",
              "      <td>0.014187</td>\n",
              "      <td>0.119110</td>\n",
              "      <td>0.085944</td>\n",
              "      <td>8.594446</td>\n",
              "      <td>198.396225</td>\n",
              "    </tr>\n",
              "    <tr>\n",
              "      <th>1</th>\n",
              "      <td>Cross-Validation</td>\n",
              "      <td>0.963063</td>\n",
              "      <td>0.046979</td>\n",
              "      <td>0.216746</td>\n",
              "      <td>0.131922</td>\n",
              "      <td>13.192241</td>\n",
              "      <td>207.072693</td>\n",
              "    </tr>\n",
              "    <tr>\n",
              "      <th>2</th>\n",
              "      <td>Test</td>\n",
              "      <td>0.967544</td>\n",
              "      <td>0.046619</td>\n",
              "      <td>0.215915</td>\n",
              "      <td>0.136275</td>\n",
              "      <td>13.627462</td>\n",
              "      <td>192.287567</td>\n",
              "    </tr>\n",
              "    <tr>\n",
              "      <th>3</th>\n",
              "      <td>All</td>\n",
              "      <td>0.983429</td>\n",
              "      <td>0.023241</td>\n",
              "      <td>0.152450</td>\n",
              "      <td>0.099368</td>\n",
              "      <td>9.936834</td>\n",
              "      <td>207.072693</td>\n",
              "    </tr>\n",
              "  </tbody>\n",
              "</table>\n",
              "</div>"
            ],
            "text/plain": [
              "         Data Split  R² Score       MSE      RMSE       MAE       %AAD  \\\n",
              "0             Train  0.989994  0.014187  0.119110  0.085944   8.594446   \n",
              "1  Cross-Validation  0.963063  0.046979  0.216746  0.131922  13.192241   \n",
              "2              Test  0.967544  0.046619  0.215915  0.136275  13.627462   \n",
              "3               All  0.983429  0.023241  0.152450  0.099368   9.936834   \n",
              "\n",
              "       %MaxAD  \n",
              "0  198.396225  \n",
              "1  207.072693  \n",
              "2  192.287567  \n",
              "3  207.072693  "
            ]
          },
          "execution_count": 17,
          "metadata": {},
          "output_type": "execute_result"
        }
      ],
      "source": [
        "import pandas as pd\n",
        "import numpy as np\n",
        "from sklearn.metrics import r2_score, mean_squared_error, mean_absolute_error\n",
        "\n",
        "def calculate_deviation(y_true, y_pred):\n",
        "    abs_deviation = np.abs(y_true - y_pred)\n",
        "    aad = np.mean(abs_deviation)  # Average Absolute Deviation\n",
        "    max_ad = np.max(abs_deviation)  # Maximum Absolute Deviation\n",
        "    return aad *  100, max_ad * 100\n",
        "\n",
        "# Calculate metrics for training data\n",
        "y_train_true = y_real_train.squeeze().numpy()\n",
        "y_train_pred = y_preds_train.to('cpu').squeeze().numpy()\n",
        "\n",
        "r2_train = r2_score(y_train_true, y_train_pred)\n",
        "mse_train = mean_squared_error(y_train_true, y_train_pred)\n",
        "mae_train = mean_absolute_error(y_train_true, y_train_pred)\n",
        "aad_train, max_ad_train = calculate_deviation(y_train_true, y_train_pred)\n",
        "\n",
        "# Calculate metrics for cross-validation data\n",
        "y_cv_true = y_real_cv.squeeze().numpy()\n",
        "y_cv_pred = y_preds_cv.to('cpu').squeeze().numpy()\n",
        "\n",
        "r2_cv = r2_score(y_cv_true, y_cv_pred)\n",
        "mse_cv = mean_squared_error(y_cv_true, y_cv_pred)\n",
        "mae_cv = mean_absolute_error(y_cv_true, y_cv_pred)\n",
        "aad_cv, max_ad_cv = calculate_deviation(y_cv_true, y_cv_pred)\n",
        "\n",
        "# Calculate metrics for test data\n",
        "y_test_true = y_real_test.squeeze().numpy()\n",
        "y_test_pred = y_preds_test.to('cpu').squeeze().numpy()\n",
        "\n",
        "r2_test = r2_score(y_test_true, y_test_pred)\n",
        "mse_test = mean_squared_error(y_test_true, y_test_pred)\n",
        "mae_test = mean_absolute_error(y_test_true, y_test_pred)\n",
        "aad_test, max_ad_test = calculate_deviation(y_test_true, y_test_pred)\n",
        "\n",
        "# Calculate metrics for whole dataset\n",
        "y_all_true = np.hstack([y_train_true, y_cv_true, y_test_true])\n",
        "y_all_pred = np.hstack([y_train_pred, y_cv_pred, y_test_pred])\n",
        "\n",
        "r2_all = r2_score(y_all_true, y_all_pred)\n",
        "mse_all = mean_squared_error(y_all_true, y_all_pred)\n",
        "mae_all = mean_absolute_error(y_all_true, y_all_pred)\n",
        "aad_all, max_ad_all = calculate_deviation(y_all_true, y_all_pred)\n",
        "\n",
        "# Create a DataFrame to store the results\n",
        "metrics_df = pd.DataFrame({\n",
        "    'Data Split': ['Train', 'Cross-Validation', 'Test', 'All'],\n",
        "    'R² Score': [r2_train, r2_cv, r2_test, r2_all],\n",
        "    'MSE': [mse_train, mse_cv, mse_test, mse_all],\n",
        "    'RMSE': [np.sqrt(mse_train), np.sqrt(mse_cv), np.sqrt(mse_test), np.sqrt(mse_all)],\n",
        "    'MAE': [mae_train, mae_cv, mae_test, mae_all],\n",
        "    '%AAD': [aad_train, aad_cv, aad_test, aad_all],  # Average Absolute Deviation\n",
        "    '%MaxAD': [max_ad_train, max_ad_cv, max_ad_test, max_ad_all]  # Maximum Absolute Deviation\n",
        "})\n",
        "\n",
        "# Display the DataFrame\n",
        "metrics_df"
      ]
    },
    {
      "cell_type": "markdown",
      "metadata": {
        "id": "zjKo_vOfQeNs"
      },
      "source": [
        "### 2-6. Save the model\n",
        "> 1. Save the `state_dict` of torch model.\n",
        "> 2. Save the `scaler`."
      ]
    },
    {
      "cell_type": "code",
      "execution_count": 20,
      "metadata": {
        "colab": {
          "base_uri": "https://localhost:8080/"
        },
        "id": "-oKio3_9RFYc",
        "outputId": "66c9afe5-7241-484d-b550-b3ceb31e5fc8"
      },
      "outputs": [
        {
          "name": "stdout",
          "output_type": "stream",
          "text": [
            "..\\models directory already exists!\n",
            "IDACModel.pth already exists!\n",
            "IDACModelScaler.pkl already exists!\n"
          ]
        }
      ],
      "source": [
        "from pathlib import Path\n",
        "import joblib\n",
        "\n",
        "models_dir = Path('../models')\n",
        "model_name = 'IDACModel.pth'\n",
        "model_path = models_dir / model_name\n",
        "\n",
        "scaler_name = 'IDACModelScaler.pkl'\n",
        "scaler_path = models_dir / scaler_name\n",
        "\n",
        "if models_dir.is_dir():\n",
        "    print(f'{models_dir} directory already exists!')\n",
        "    if model_path.exists():\n",
        "        print(f'{model_name} already exists!')\n",
        "    else:\n",
        "        print(f'saving the {model_name} in {models_dir} directory...')\n",
        "        torch.save(model_0.state_dict(), model_path)\n",
        "\n",
        "    if scaler_path.exists():\n",
        "        print(f'{scaler_name} already exists!')\n",
        "    else:\n",
        "        print(f'saving the {scaler_name} in {models_dir} directory...')\n",
        "        joblib.dump(scaler, scaler_path)\n",
        "else:\n",
        "    print(f'making the {models_dir} directory...')\n",
        "    models_dir.mkdir()\n",
        "    print(f'saving the {model_name} in {models_dir} directory...')\n",
        "    torch.save(model_0.state_dict(), model_path)\n",
        "\n",
        "    print(f'saving the {scaler_name} in {models_dir} directory...')\n",
        "    joblib.dump(scaler, scaler_path)"
      ]
    },
    {
      "cell_type": "markdown",
      "metadata": {
        "id": "Vd3dCSGrXbnF"
      },
      "source": [
        "## 3. Load And Use the model"
      ]
    },
    {
      "cell_type": "code",
      "execution_count": 19,
      "metadata": {
        "colab": {
          "base_uri": "https://localhost:8080/"
        },
        "id": "Q9zRar7hVZCR",
        "outputId": "b0feea54-0f2f-4a72-e7ff-ce629a2831ca"
      },
      "outputs": [
        {
          "name": "stderr",
          "output_type": "stream",
          "text": [
            "C:\\Users\\sardar\\AppData\\Local\\Temp\\ipykernel_19228\\1753928152.py:40: FutureWarning: You are using `torch.load` with `weights_only=False` (the current default value), which uses the default pickle module implicitly. It is possible to construct malicious pickle data which will execute arbitrary code during unpickling (See https://github.com/pytorch/pytorch/blob/main/SECURITY.md#untrusted-models for more details). In a future release, the default value for `weights_only` will be flipped to `True`. This limits the functions that could be executed during unpickling. Arbitrary objects will no longer be allowed to be loaded via this mode unless they are explicitly allowlisted by the user via `torch.serialization.add_safe_globals`. We recommend you start setting `weights_only=True` for any use case where you don't have full control of the loaded file. Please open an issue on GitHub for any issues related to this experimental feature.\n",
            "  model.load_state_dict(torch.load('./models/IDACModel.pth'))\n"
          ]
        },
        {
          "data": {
            "text/plain": [
              "(0.973791241645813, 0.985816795)"
            ]
          },
          "execution_count": 19,
          "metadata": {},
          "output_type": "execute_result"
        }
      ],
      "source": [
        "def prepare_input_vector(input_vector, scaler):\n",
        "    \"\"\"\n",
        "    Scales the input vector and converts it to a PyTorch tensor.\n",
        "\n",
        "    Parameters:\n",
        "    - input_vector: A list or NumPy array of features to be scaled.\n",
        "    - scaler: The fitted scaler object used for scaling.\n",
        "\n",
        "    Returns:\n",
        "    - A PyTorch tensor ready to be fed to the model.\n",
        "    \"\"\"\n",
        "    # Convert the input vector to a NumPy array if it isn't already\n",
        "    input_array = np.array(input_vector).reshape(1, -1)\n",
        "\n",
        "    # Scale the input vector\n",
        "    scaled_vector = scaler.transform(input_array)\n",
        "\n",
        "    # Convert the scaled vector to a PyTorch tensor\n",
        "    tensor_input = torch.tensor(scaled_vector, dtype=torch.float32)\n",
        "\n",
        "    return tensor_input\n",
        "\n",
        "scaler = joblib.load('./models/IDACModelScaler.pkl')\n",
        "\n",
        "input_vector = [561.6, 5226120, 0.000230947,\n",
        "                0.268, 2.94, 98.95916, 652.5,\n",
        "                2777000, 0.000497, 0.5963,\n",
        "                1.649998201, 130.22792, 298.2]\n",
        "target = 0.985816795\n",
        "\n",
        "tensor_input = prepare_input_vector(input_vector, scaler)\n",
        "\n",
        "# model\n",
        "INPUT_SHAPE = 13\n",
        "HIDDEN_UNITS = 40\n",
        "OUTPUT_SHAPE = 1\n",
        "ACTIVATION = 'sigmoid'\n",
        "\n",
        "model = IDACModelV0(INPUT_SHAPE, HIDDEN_UNITS, OUTPUT_SHAPE, ACTIVATION)\n",
        "model.load_state_dict(torch.load('./models/IDACModel.pth'))\n",
        "\n",
        "model.eval()\n",
        "with torch.inference_mode():\n",
        "    prediction = model(tensor_input)\n",
        "\n",
        "prediction.item(), target"
      ]
    }
  ],
  "metadata": {
    "accelerator": "GPU",
    "colab": {
      "gpuType": "T4",
      "provenance": []
    },
    "kernelspec": {
      "display_name": "torch2",
      "language": "python",
      "name": "python3"
    },
    "language_info": {
      "codemirror_mode": {
        "name": "ipython",
        "version": 3
      },
      "file_extension": ".py",
      "mimetype": "text/x-python",
      "name": "python",
      "nbconvert_exporter": "python",
      "pygments_lexer": "ipython3",
      "version": "3.12.5"
    },
    "widgets": {
      "application/vnd.jupyter.widget-state+json": {
        "01f060d9ca664c30a5c944aaa0a3b995": {
          "model_module": "@jupyter-widgets/base",
          "model_module_version": "1.2.0",
          "model_name": "LayoutModel",
          "state": {
            "_model_module": "@jupyter-widgets/base",
            "_model_module_version": "1.2.0",
            "_model_name": "LayoutModel",
            "_view_count": null,
            "_view_module": "@jupyter-widgets/base",
            "_view_module_version": "1.2.0",
            "_view_name": "LayoutView",
            "align_content": null,
            "align_items": null,
            "align_self": null,
            "border": null,
            "bottom": null,
            "display": null,
            "flex": null,
            "flex_flow": null,
            "grid_area": null,
            "grid_auto_columns": null,
            "grid_auto_flow": null,
            "grid_auto_rows": null,
            "grid_column": null,
            "grid_gap": null,
            "grid_row": null,
            "grid_template_areas": null,
            "grid_template_columns": null,
            "grid_template_rows": null,
            "height": null,
            "justify_content": null,
            "justify_items": null,
            "left": null,
            "margin": null,
            "max_height": null,
            "max_width": null,
            "min_height": null,
            "min_width": null,
            "object_fit": null,
            "object_position": null,
            "order": null,
            "overflow": null,
            "overflow_x": null,
            "overflow_y": null,
            "padding": null,
            "right": null,
            "top": null,
            "visibility": null,
            "width": null
          }
        },
        "0d3a5f3222054f2eaec64ea29c8b6924": {
          "model_module": "@jupyter-widgets/controls",
          "model_module_version": "1.5.0",
          "model_name": "DescriptionStyleModel",
          "state": {
            "_model_module": "@jupyter-widgets/controls",
            "_model_module_version": "1.5.0",
            "_model_name": "DescriptionStyleModel",
            "_view_count": null,
            "_view_module": "@jupyter-widgets/base",
            "_view_module_version": "1.2.0",
            "_view_name": "StyleView",
            "description_width": ""
          }
        },
        "1ffb68c3f9e246fc977833e874d3ed59": {
          "model_module": "@jupyter-widgets/base",
          "model_module_version": "1.2.0",
          "model_name": "LayoutModel",
          "state": {
            "_model_module": "@jupyter-widgets/base",
            "_model_module_version": "1.2.0",
            "_model_name": "LayoutModel",
            "_view_count": null,
            "_view_module": "@jupyter-widgets/base",
            "_view_module_version": "1.2.0",
            "_view_name": "LayoutView",
            "align_content": null,
            "align_items": null,
            "align_self": null,
            "border": null,
            "bottom": null,
            "display": null,
            "flex": null,
            "flex_flow": null,
            "grid_area": null,
            "grid_auto_columns": null,
            "grid_auto_flow": null,
            "grid_auto_rows": null,
            "grid_column": null,
            "grid_gap": null,
            "grid_row": null,
            "grid_template_areas": null,
            "grid_template_columns": null,
            "grid_template_rows": null,
            "height": null,
            "justify_content": null,
            "justify_items": null,
            "left": null,
            "margin": null,
            "max_height": null,
            "max_width": null,
            "min_height": null,
            "min_width": null,
            "object_fit": null,
            "object_position": null,
            "order": null,
            "overflow": null,
            "overflow_x": null,
            "overflow_y": null,
            "padding": null,
            "right": null,
            "top": null,
            "visibility": null,
            "width": null
          }
        },
        "4aa202094dee405a90584d5d994a6d46": {
          "model_module": "@jupyter-widgets/base",
          "model_module_version": "1.2.0",
          "model_name": "LayoutModel",
          "state": {
            "_model_module": "@jupyter-widgets/base",
            "_model_module_version": "1.2.0",
            "_model_name": "LayoutModel",
            "_view_count": null,
            "_view_module": "@jupyter-widgets/base",
            "_view_module_version": "1.2.0",
            "_view_name": "LayoutView",
            "align_content": null,
            "align_items": null,
            "align_self": null,
            "border": null,
            "bottom": null,
            "display": null,
            "flex": null,
            "flex_flow": null,
            "grid_area": null,
            "grid_auto_columns": null,
            "grid_auto_flow": null,
            "grid_auto_rows": null,
            "grid_column": null,
            "grid_gap": null,
            "grid_row": null,
            "grid_template_areas": null,
            "grid_template_columns": null,
            "grid_template_rows": null,
            "height": null,
            "justify_content": null,
            "justify_items": null,
            "left": null,
            "margin": null,
            "max_height": null,
            "max_width": null,
            "min_height": null,
            "min_width": null,
            "object_fit": null,
            "object_position": null,
            "order": null,
            "overflow": null,
            "overflow_x": null,
            "overflow_y": null,
            "padding": null,
            "right": null,
            "top": null,
            "visibility": null,
            "width": null
          }
        },
        "4adff2c54d0b458fae7ddc2843268f5b": {
          "model_module": "@jupyter-widgets/base",
          "model_module_version": "1.2.0",
          "model_name": "LayoutModel",
          "state": {
            "_model_module": "@jupyter-widgets/base",
            "_model_module_version": "1.2.0",
            "_model_name": "LayoutModel",
            "_view_count": null,
            "_view_module": "@jupyter-widgets/base",
            "_view_module_version": "1.2.0",
            "_view_name": "LayoutView",
            "align_content": null,
            "align_items": null,
            "align_self": null,
            "border": null,
            "bottom": null,
            "display": null,
            "flex": null,
            "flex_flow": null,
            "grid_area": null,
            "grid_auto_columns": null,
            "grid_auto_flow": null,
            "grid_auto_rows": null,
            "grid_column": null,
            "grid_gap": null,
            "grid_row": null,
            "grid_template_areas": null,
            "grid_template_columns": null,
            "grid_template_rows": null,
            "height": null,
            "justify_content": null,
            "justify_items": null,
            "left": null,
            "margin": null,
            "max_height": null,
            "max_width": null,
            "min_height": null,
            "min_width": null,
            "object_fit": null,
            "object_position": null,
            "order": null,
            "overflow": null,
            "overflow_x": null,
            "overflow_y": null,
            "padding": null,
            "right": null,
            "top": null,
            "visibility": null,
            "width": null
          }
        },
        "4e97334830f24462bc654485e06b5219": {
          "model_module": "@jupyter-widgets/controls",
          "model_module_version": "1.5.0",
          "model_name": "DescriptionStyleModel",
          "state": {
            "_model_module": "@jupyter-widgets/controls",
            "_model_module_version": "1.5.0",
            "_model_name": "DescriptionStyleModel",
            "_view_count": null,
            "_view_module": "@jupyter-widgets/base",
            "_view_module_version": "1.2.0",
            "_view_name": "StyleView",
            "description_width": ""
          }
        },
        "50eef1b98a3349519fa1afbcb52b131b": {
          "model_module": "@jupyter-widgets/base",
          "model_module_version": "1.2.0",
          "model_name": "LayoutModel",
          "state": {
            "_model_module": "@jupyter-widgets/base",
            "_model_module_version": "1.2.0",
            "_model_name": "LayoutModel",
            "_view_count": null,
            "_view_module": "@jupyter-widgets/base",
            "_view_module_version": "1.2.0",
            "_view_name": "LayoutView",
            "align_content": null,
            "align_items": null,
            "align_self": null,
            "border": null,
            "bottom": null,
            "display": null,
            "flex": null,
            "flex_flow": null,
            "grid_area": null,
            "grid_auto_columns": null,
            "grid_auto_flow": null,
            "grid_auto_rows": null,
            "grid_column": null,
            "grid_gap": null,
            "grid_row": null,
            "grid_template_areas": null,
            "grid_template_columns": null,
            "grid_template_rows": null,
            "height": null,
            "justify_content": null,
            "justify_items": null,
            "left": null,
            "margin": null,
            "max_height": null,
            "max_width": null,
            "min_height": null,
            "min_width": null,
            "object_fit": null,
            "object_position": null,
            "order": null,
            "overflow": null,
            "overflow_x": null,
            "overflow_y": null,
            "padding": null,
            "right": null,
            "top": null,
            "visibility": null,
            "width": null
          }
        },
        "5a8a8c1b98b9486ba1ee3a1121194c71": {
          "model_module": "@jupyter-widgets/controls",
          "model_module_version": "1.5.0",
          "model_name": "ProgressStyleModel",
          "state": {
            "_model_module": "@jupyter-widgets/controls",
            "_model_module_version": "1.5.0",
            "_model_name": "ProgressStyleModel",
            "_view_count": null,
            "_view_module": "@jupyter-widgets/base",
            "_view_module_version": "1.2.0",
            "_view_name": "StyleView",
            "bar_color": null,
            "description_width": ""
          }
        },
        "6697059c7cfd41d6b5d0503793ab0eeb": {
          "model_module": "@jupyter-widgets/controls",
          "model_module_version": "1.5.0",
          "model_name": "HTMLModel",
          "state": {
            "_dom_classes": [],
            "_model_module": "@jupyter-widgets/controls",
            "_model_module_version": "1.5.0",
            "_model_name": "HTMLModel",
            "_view_count": null,
            "_view_module": "@jupyter-widgets/controls",
            "_view_module_version": "1.5.0",
            "_view_name": "HTMLView",
            "description": "",
            "description_tooltip": null,
            "layout": "IPY_MODEL_b66bdaacb28e46c691d9c0502aa549d5",
            "placeholder": "​",
            "style": "IPY_MODEL_4e97334830f24462bc654485e06b5219",
            "value": " 220/220 [01:07&lt;00:00,  3.20it/s]"
          }
        },
        "74abaf648ee743f8bf33e4270473e8dc": {
          "model_module": "@jupyter-widgets/base",
          "model_module_version": "1.2.0",
          "model_name": "LayoutModel",
          "state": {
            "_model_module": "@jupyter-widgets/base",
            "_model_module_version": "1.2.0",
            "_model_name": "LayoutModel",
            "_view_count": null,
            "_view_module": "@jupyter-widgets/base",
            "_view_module_version": "1.2.0",
            "_view_name": "LayoutView",
            "align_content": null,
            "align_items": null,
            "align_self": null,
            "border": null,
            "bottom": null,
            "display": null,
            "flex": null,
            "flex_flow": null,
            "grid_area": null,
            "grid_auto_columns": null,
            "grid_auto_flow": null,
            "grid_auto_rows": null,
            "grid_column": null,
            "grid_gap": null,
            "grid_row": null,
            "grid_template_areas": null,
            "grid_template_columns": null,
            "grid_template_rows": null,
            "height": null,
            "justify_content": null,
            "justify_items": null,
            "left": null,
            "margin": null,
            "max_height": null,
            "max_width": null,
            "min_height": null,
            "min_width": null,
            "object_fit": null,
            "object_position": null,
            "order": null,
            "overflow": null,
            "overflow_x": null,
            "overflow_y": null,
            "padding": null,
            "right": null,
            "top": null,
            "visibility": null,
            "width": null
          }
        },
        "81a1c370f4d54e38becda3eb6cb9735b": {
          "model_module": "@jupyter-widgets/controls",
          "model_module_version": "1.5.0",
          "model_name": "FloatProgressModel",
          "state": {
            "_dom_classes": [],
            "_model_module": "@jupyter-widgets/controls",
            "_model_module_version": "1.5.0",
            "_model_name": "FloatProgressModel",
            "_view_count": null,
            "_view_module": "@jupyter-widgets/controls",
            "_view_module_version": "1.5.0",
            "_view_name": "ProgressView",
            "bar_style": "success",
            "description": "",
            "description_tooltip": null,
            "layout": "IPY_MODEL_1ffb68c3f9e246fc977833e874d3ed59",
            "max": 220,
            "min": 0,
            "orientation": "horizontal",
            "style": "IPY_MODEL_5a8a8c1b98b9486ba1ee3a1121194c71",
            "value": 220
          }
        },
        "82f01d318e52424899c453062d112ab1": {
          "model_module": "@jupyter-widgets/controls",
          "model_module_version": "1.5.0",
          "model_name": "DescriptionStyleModel",
          "state": {
            "_model_module": "@jupyter-widgets/controls",
            "_model_module_version": "1.5.0",
            "_model_name": "DescriptionStyleModel",
            "_view_count": null,
            "_view_module": "@jupyter-widgets/base",
            "_view_module_version": "1.2.0",
            "_view_name": "StyleView",
            "description_width": ""
          }
        },
        "94f3dac7da794382896351cae4041faa": {
          "model_module": "@jupyter-widgets/controls",
          "model_module_version": "1.5.0",
          "model_name": "ProgressStyleModel",
          "state": {
            "_model_module": "@jupyter-widgets/controls",
            "_model_module_version": "1.5.0",
            "_model_name": "ProgressStyleModel",
            "_view_count": null,
            "_view_module": "@jupyter-widgets/base",
            "_view_module_version": "1.2.0",
            "_view_name": "StyleView",
            "bar_color": null,
            "description_width": ""
          }
        },
        "9fc048dbcd1a440ba24a7f87c467d642": {
          "model_module": "@jupyter-widgets/controls",
          "model_module_version": "1.5.0",
          "model_name": "HTMLModel",
          "state": {
            "_dom_classes": [],
            "_model_module": "@jupyter-widgets/controls",
            "_model_module_version": "1.5.0",
            "_model_name": "HTMLModel",
            "_view_count": null,
            "_view_module": "@jupyter-widgets/controls",
            "_view_module_version": "1.5.0",
            "_view_name": "HTMLView",
            "description": "",
            "description_tooltip": null,
            "layout": "IPY_MODEL_50eef1b98a3349519fa1afbcb52b131b",
            "placeholder": "​",
            "style": "IPY_MODEL_82f01d318e52424899c453062d112ab1",
            "value": " 31/31 [00:00&lt;00:00, 658.30it/s]"
          }
        },
        "ad449a1562534a658aafef7fa73eb047": {
          "model_module": "@jupyter-widgets/controls",
          "model_module_version": "1.5.0",
          "model_name": "DescriptionStyleModel",
          "state": {
            "_model_module": "@jupyter-widgets/controls",
            "_model_module_version": "1.5.0",
            "_model_name": "DescriptionStyleModel",
            "_view_count": null,
            "_view_module": "@jupyter-widgets/base",
            "_view_module_version": "1.2.0",
            "_view_name": "StyleView",
            "description_width": ""
          }
        },
        "b66bdaacb28e46c691d9c0502aa549d5": {
          "model_module": "@jupyter-widgets/base",
          "model_module_version": "1.2.0",
          "model_name": "LayoutModel",
          "state": {
            "_model_module": "@jupyter-widgets/base",
            "_model_module_version": "1.2.0",
            "_model_name": "LayoutModel",
            "_view_count": null,
            "_view_module": "@jupyter-widgets/base",
            "_view_module_version": "1.2.0",
            "_view_name": "LayoutView",
            "align_content": null,
            "align_items": null,
            "align_self": null,
            "border": null,
            "bottom": null,
            "display": null,
            "flex": null,
            "flex_flow": null,
            "grid_area": null,
            "grid_auto_columns": null,
            "grid_auto_flow": null,
            "grid_auto_rows": null,
            "grid_column": null,
            "grid_gap": null,
            "grid_row": null,
            "grid_template_areas": null,
            "grid_template_columns": null,
            "grid_template_rows": null,
            "height": null,
            "justify_content": null,
            "justify_items": null,
            "left": null,
            "margin": null,
            "max_height": null,
            "max_width": null,
            "min_height": null,
            "min_width": null,
            "object_fit": null,
            "object_position": null,
            "order": null,
            "overflow": null,
            "overflow_x": null,
            "overflow_y": null,
            "padding": null,
            "right": null,
            "top": null,
            "visibility": null,
            "width": null
          }
        },
        "cdc27664662d4a6aaa6cd08ec03f4dbe": {
          "model_module": "@jupyter-widgets/controls",
          "model_module_version": "1.5.0",
          "model_name": "HTMLModel",
          "state": {
            "_dom_classes": [],
            "_model_module": "@jupyter-widgets/controls",
            "_model_module_version": "1.5.0",
            "_model_name": "HTMLModel",
            "_view_count": null,
            "_view_module": "@jupyter-widgets/controls",
            "_view_module_version": "1.5.0",
            "_view_name": "HTMLView",
            "description": "",
            "description_tooltip": null,
            "layout": "IPY_MODEL_74abaf648ee743f8bf33e4270473e8dc",
            "placeholder": "​",
            "style": "IPY_MODEL_ad449a1562534a658aafef7fa73eb047",
            "value": "100%"
          }
        },
        "df0827b4f1f54032abc554dc64cdb0b6": {
          "model_module": "@jupyter-widgets/controls",
          "model_module_version": "1.5.0",
          "model_name": "HTMLModel",
          "state": {
            "_dom_classes": [],
            "_model_module": "@jupyter-widgets/controls",
            "_model_module_version": "1.5.0",
            "_model_name": "HTMLModel",
            "_view_count": null,
            "_view_module": "@jupyter-widgets/controls",
            "_view_module_version": "1.5.0",
            "_view_name": "HTMLView",
            "description": "",
            "description_tooltip": null,
            "layout": "IPY_MODEL_01f060d9ca664c30a5c944aaa0a3b995",
            "placeholder": "​",
            "style": "IPY_MODEL_0d3a5f3222054f2eaec64ea29c8b6924",
            "value": "100%"
          }
        },
        "ec097f11810c4e71b8835a8119b82ad2": {
          "model_module": "@jupyter-widgets/controls",
          "model_module_version": "1.5.0",
          "model_name": "FloatProgressModel",
          "state": {
            "_dom_classes": [],
            "_model_module": "@jupyter-widgets/controls",
            "_model_module_version": "1.5.0",
            "_model_name": "FloatProgressModel",
            "_view_count": null,
            "_view_module": "@jupyter-widgets/controls",
            "_view_module_version": "1.5.0",
            "_view_name": "ProgressView",
            "bar_style": "success",
            "description": "",
            "description_tooltip": null,
            "layout": "IPY_MODEL_4adff2c54d0b458fae7ddc2843268f5b",
            "max": 31,
            "min": 0,
            "orientation": "horizontal",
            "style": "IPY_MODEL_94f3dac7da794382896351cae4041faa",
            "value": 31
          }
        },
        "eef74dd4b40f46bc89c8cd4403e3f525": {
          "model_module": "@jupyter-widgets/controls",
          "model_module_version": "1.5.0",
          "model_name": "HBoxModel",
          "state": {
            "_dom_classes": [],
            "_model_module": "@jupyter-widgets/controls",
            "_model_module_version": "1.5.0",
            "_model_name": "HBoxModel",
            "_view_count": null,
            "_view_module": "@jupyter-widgets/controls",
            "_view_module_version": "1.5.0",
            "_view_name": "HBoxView",
            "box_style": "",
            "children": [
              "IPY_MODEL_cdc27664662d4a6aaa6cd08ec03f4dbe",
              "IPY_MODEL_81a1c370f4d54e38becda3eb6cb9735b",
              "IPY_MODEL_6697059c7cfd41d6b5d0503793ab0eeb"
            ],
            "layout": "IPY_MODEL_fc54a190b92c4bb2a3053ac76e72cfc6"
          }
        },
        "f14c5ab0e6c84fbdb64ae7a8e18cba5a": {
          "model_module": "@jupyter-widgets/controls",
          "model_module_version": "1.5.0",
          "model_name": "HBoxModel",
          "state": {
            "_dom_classes": [],
            "_model_module": "@jupyter-widgets/controls",
            "_model_module_version": "1.5.0",
            "_model_name": "HBoxModel",
            "_view_count": null,
            "_view_module": "@jupyter-widgets/controls",
            "_view_module_version": "1.5.0",
            "_view_name": "HBoxView",
            "box_style": "",
            "children": [
              "IPY_MODEL_df0827b4f1f54032abc554dc64cdb0b6",
              "IPY_MODEL_ec097f11810c4e71b8835a8119b82ad2",
              "IPY_MODEL_9fc048dbcd1a440ba24a7f87c467d642"
            ],
            "layout": "IPY_MODEL_4aa202094dee405a90584d5d994a6d46"
          }
        },
        "fc54a190b92c4bb2a3053ac76e72cfc6": {
          "model_module": "@jupyter-widgets/base",
          "model_module_version": "1.2.0",
          "model_name": "LayoutModel",
          "state": {
            "_model_module": "@jupyter-widgets/base",
            "_model_module_version": "1.2.0",
            "_model_name": "LayoutModel",
            "_view_count": null,
            "_view_module": "@jupyter-widgets/base",
            "_view_module_version": "1.2.0",
            "_view_name": "LayoutView",
            "align_content": null,
            "align_items": null,
            "align_self": null,
            "border": null,
            "bottom": null,
            "display": null,
            "flex": null,
            "flex_flow": null,
            "grid_area": null,
            "grid_auto_columns": null,
            "grid_auto_flow": null,
            "grid_auto_rows": null,
            "grid_column": null,
            "grid_gap": null,
            "grid_row": null,
            "grid_template_areas": null,
            "grid_template_columns": null,
            "grid_template_rows": null,
            "height": null,
            "justify_content": null,
            "justify_items": null,
            "left": null,
            "margin": null,
            "max_height": null,
            "max_width": null,
            "min_height": null,
            "min_width": null,
            "object_fit": null,
            "object_position": null,
            "order": null,
            "overflow": null,
            "overflow_x": null,
            "overflow_y": null,
            "padding": null,
            "right": null,
            "top": null,
            "visibility": null,
            "width": null
          }
        }
      }
    }
  },
  "nbformat": 4,
  "nbformat_minor": 0
}
